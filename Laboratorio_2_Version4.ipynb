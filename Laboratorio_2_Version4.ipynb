{
  "cells": [
    {
      "cell_type": "markdown",
      "metadata": {
        "id": "view-in-github",
        "colab_type": "text"
      },
      "source": [
        "<a href=\"https://colab.research.google.com/github/lacastrilp/Lab_2_Algebra_Lineal/blob/main/Laboratorio_2_Version4.ipynb\" target=\"_parent\"><img src=\"https://colab.research.google.com/assets/colab-badge.svg\" alt=\"Open In Colab\"/></a>"
      ]
    },
    {
      "cell_type": "markdown",
      "metadata": {
        "id": "yJTXJoSyfUoW"
      },
      "source": [
        "\n",
        "#**Laboratorio #2 (6%)**\n",
        "\n",
        "**Instrucciones:** El presente trabajo consta de seis (6) problemas cada uno con un valor determinado. La entrega del laboratorio **debe ser realizada en grupos de máximo 4 integrantes**. Se debe entregar un **solo documento por grupo** en el cual **debe aparecer de forma clara los nombres completo de los integrantes**. Por favor, **comentar de forma organizada y coherente** los pasos realizados.  \n",
        "\n",
        "**Formato de entrega:** Para la entrega de este trabajo, descargue el archivo en **formato PDF** (esto lo consigue con la combinación de teclas **ctrl + p** y guardando el archivo en el formato requerido) y enviarlo a través de Interactiva en el buzón designado para ello.\n",
        "\n",
        "**NOTA:** No olvide imprimir las respuestas de sus cálculos."
      ]
    },
    {
      "cell_type": "code",
      "source": [
        "########---------------Nombre completo de los integrantes del grupo de trabajo-------------------##########\n",
        "\n",
        "# Integrante 1:\n",
        "\n",
        "# Integrante 2:\n",
        "\n",
        "# Integrante 3:\n",
        "\n",
        "# Integrante 4:"
      ],
      "metadata": {
        "id": "PzwDHl5H-I8H"
      },
      "execution_count": null,
      "outputs": []
    },
    {
      "cell_type": "markdown",
      "metadata": {
        "id": "8RyiyN2m9zcB"
      },
      "source": [
        "### **Ejercicio #1: (0.6)**\n",
        "Considere la matriz\n",
        "\n",
        "\\begin{equation*}\n",
        " A =\n",
        "\\begin{pmatrix}\n",
        " -k & k-1 & k+1 & k & 0\\\\\n",
        "1 & 2 & 3 & 4 & 1\\\\\n",
        "2-k & k+3 & k+7 & 2 & 1 \\\\\n",
        "-2 & 3 & 4 & 6 & 2 \\\\\n",
        "0 & 2 & 1 & 0 & 3\n",
        "\\end{pmatrix}.\n",
        "\\end{equation*} \\\n",
        "\n",
        "\n",
        "a). **(0.3)**  Halle los valores de $k$ para los cuales la matriz $A$ tiene inversa.\n",
        "\n",
        "b). **(0.3)**  Halle los valores de $k$ para los cuales $\\det(A) = k -4$.\n"
      ]
    },
    {
      "cell_type": "code",
      "execution_count": null,
      "metadata": {
        "id": "TkJQnEDwAzup"
      },
      "outputs": [],
      "source": [
        "# Solución Ejercicio 1. (No olvide imprimir las respuestas de sus cálculos)\n",
        "\n",
        "# (a):\n"
      ]
    },
    {
      "cell_type": "code",
      "execution_count": null,
      "metadata": {
        "id": "cI5F0vYLU7oY"
      },
      "outputs": [],
      "source": [
        "# Solución Ejercicio 1. (No olvide imprimir las respuestas de sus cálculos)\n",
        "\n",
        "# (b):"
      ]
    },
    {
      "cell_type": "markdown",
      "metadata": {
        "id": "S8_KgC0JzPpj"
      },
      "source": [
        "\n",
        "### **Ejercicio #2: (0.7)**\n",
        "Sean $A(x_1,y_1), \\ B(x_2,y_2)$ y $C(x_3,y_3)$ tres puntos en el plano $xy$. El área del triángulo formado por dichos puntos $A,B,C$ es dada por la expresión  \n",
        "\n",
        "\\begin{equation*}\n",
        " \\mbox{Área} = \\frac{1}{2} \\left | \\det\n",
        "\\begin{pmatrix}\n",
        "x_1 & y_1 & 1\\\\\n",
        "x_2 & y_2 & 1 \\\\\n",
        "x_3 & y_3 & 1\n",
        "\\end{pmatrix} \\right|,\n",
        "\\end{equation*}\n",
        "\n",
        "donde el símbolo $|.|$ denota el valor absoluto.\n",
        "\n",
        "a). **(0.3)** Sean $A(0,-3), \\ B(8,1)$ y $C(-2,5)$. Halle el área del triángulo formado por los puntos $A, \\ B, \\ C$.  \n",
        "\n",
        "b). **(0.4)**  ¿Para qué valores de $k$ el **cuadrado del área del triángulo** formado por los puntos $A(1,k), \\ B(k,0)$ y $C(0,k)$ es igual al área encontrada en el item (a)?"
      ]
    },
    {
      "cell_type": "code",
      "execution_count": null,
      "metadata": {
        "id": "8-ZGhYEizqp0"
      },
      "outputs": [],
      "source": [
        "# Solución Ejercicio 2. (No olvide imprimir las respuestas de sus cálculos)\n",
        "\n",
        "# (a):\n"
      ]
    },
    {
      "cell_type": "code",
      "execution_count": null,
      "metadata": {
        "id": "tLMBJnxIfdgs"
      },
      "outputs": [],
      "source": [
        "# Solución Ejercicio 2. (No olvide imprimir las respuestas de sus cálculos)\n",
        "\n",
        "# (b):\n"
      ]
    },
    {
      "cell_type": "markdown",
      "metadata": {
        "id": "NIHkg4fCYC8F"
      },
      "source": [
        "### **Ejercicio #3: (0.7)**\n",
        "Considere el conjunto de vectores de $\\mathbb{R}^6$:\n",
        "\n",
        "$$ S = \\{ (1,0,1,0,0,0), (0,1,0,1,0,1), (-1,1,0,0,1,1), (0,0,-1,-1,1,-1),(-1,0,-2,0,1,0), (0,0,0,1,-1,1)\\}.     $$\n",
        "\n",
        "(a). **(0.3)** Muestre que dicho conjunto $S$ es una base para $\\mathbb{R}^6$.\n",
        "\n",
        "(b). **(0.4)** Determinar las coordenadas del vector $(1, 2, 3,4,5,5)$ en dicha base."
      ]
    },
    {
      "cell_type": "code",
      "execution_count": null,
      "metadata": {
        "id": "mI0rBpuohZog"
      },
      "outputs": [],
      "source": [
        "# Solución Ejercicio 3. (No olvide imprimir las respuestas de sus cálculos)\n",
        "\n",
        "# (a):\n"
      ]
    },
    {
      "cell_type": "code",
      "execution_count": null,
      "metadata": {
        "id": "DHe_R20Xi3RK"
      },
      "outputs": [],
      "source": [
        "# Solución Ejercicio 3. (No olvide imprimir las respuestas de sus cálculos)\n",
        "\n",
        "# (b):"
      ]
    },
    {
      "cell_type": "markdown",
      "metadata": {
        "id": "UtvOUUZkXRzf"
      },
      "source": [
        "### **Ejercicio #4: (1.0)**\n",
        "Considere el espacio vectorial\n",
        "\n",
        "$$ M_{n \\times n}(\\mathbb{R}) := \\left\\lbrace \\begin{equation*}\n",
        " A =\n",
        "\\begin{pmatrix}\n",
        " a_{11} & a_{12} & \\cdots & a_{1n}\\\\\n",
        "a_{21} & a_{22} & \\cdots & a_{2n}\\\\\n",
        "\\vdots & \\vdots & \\ddots & \\vdots\\\\\n",
        "a_{n1} & a_{n2} & \\cdots & a_{nn}\n",
        "\\end{pmatrix}\n",
        "\\end{equation*} :  a_{ij} \\in \\mathbb{R}, \\  ∀ i,j = 1,...,n  \\right\\rbrace,$$\n",
        "\n",
        "es decir, el espacio de las matrices cuadradas de tamaño $n \\times n$ con las operaciones usuales de las matrices.\n",
        "Si $A$ y $B$ están en $M_{n \\times n}(\\mathbb{R})$, se define el producto escalar y la norma como sigue:\n",
        "\n",
        "$$  \\langle A,B \\rangle = Tr(B^{T}A), \\quad \\quad \\|A\\|  = \\sqrt{Tr(A^{T}A)},          $$\n",
        "donde $Tr(A)$ denota la traza de la matriz $A$, y se define como $Tr(A) = a_{11} + a_{22} + \\cdots + a_{nn}.$\n",
        "\n",
        "  a). **(0.5)** Sea $n = 4$ y considere las matrices \\begin{equation*}\n",
        "  A =\n",
        "  \\begin{pmatrix}\n",
        "  1 &  0 & 3 & 20\\\\\n",
        "  0 & 1 & 2 & 5 \\\\\n",
        "-4 & 6 & 1 & -9 \\\\\n",
        "7 & 2 & 1 & 0\n",
        "  \\end{pmatrix}, \\\n",
        "  B =\n",
        "  \\begin{pmatrix}\n",
        "   8 &  6 & 14 & 2\\\\\n",
        "  1 & 0 & 3 & 0 \\\\\n",
        "5 & 8 & 1 & 9 \\\\\n",
        "-3 & -3 & 1 & 1\n",
        "  \\end{pmatrix},\n",
        "  \\end{equation*} halle $-3 \\langle AB,B \\rangle -  \\| A^2-B^2 \\|$.  \n",
        "\n",
        "\n",
        "\n",
        "b). **(0.5)**  Halle **la mitad del  ángulo** entre las matrices $A$ y $B$ definidas anteriormente (dar su respuesta en grados).\n",
        "\n"
      ]
    },
    {
      "cell_type": "code",
      "execution_count": null,
      "metadata": {
        "colab": {
          "base_uri": "https://localhost:8080/"
        },
        "id": "E96U0ATKkzQF",
        "outputId": "b9fde369-7e34-4641-8d37-0fa914f93f6d"
      },
      "outputs": [
        {
          "output_type": "stream",
          "name": "stdout",
          "text": [
            "Sol = 29\n"
          ]
        }
      ],
      "source": [
        "#########---------- Ejecutar esta parte antes de dar respuesta a las preguntas-----------#########\n",
        "\n",
        "# NOTA: El producto escalar aqui definido puede calcularse  mediante la siguiente función:\n",
        "\n",
        "import numpy as np\n",
        "\n",
        "Product = lambda A,B: np.trace(np.transpose(B) @ A)\n",
        "\n",
        "# Dicha función recibe como entradas las matrices A,B y devuelve como resultado el producto escalar de A y B.\n",
        "\n",
        "# Ejemplo: Hallemos el producto escalar <A,B> con las matrices definidas a continuación\n",
        "\n",
        "A = np.array([[9, 0, 0, 0],[0,2,0,0],[0,0,3,0],[0,0,0,1]])\n",
        "\n",
        "B = np.array([[1, 0, 0, 0],[0,3, 0, 0],[0, 0, 4, 0],[0, 0, 0, 2]])\n",
        "\n",
        "Sol = Product(A,B)\n",
        "\n",
        "print('Sol =', Sol)"
      ]
    },
    {
      "cell_type": "code",
      "execution_count": null,
      "metadata": {
        "id": "-l9fLWIwc_eY"
      },
      "outputs": [],
      "source": [
        "# Solución Ejercicio 4. (No olvide imprimir las respuestas de sus cálculos)\n",
        "\n",
        "# Debe usar en sus respuestas la función antes definida\n",
        "\n",
        "# (a):"
      ]
    },
    {
      "cell_type": "code",
      "execution_count": null,
      "metadata": {
        "id": "qD7Mg6SrqXx0"
      },
      "outputs": [],
      "source": [
        "# Solución Ejercicio 4. (No olvide imprimir las respuestas de sus cálculos)\n",
        "\n",
        "# Debe usar en sus respuestas la función antes definida\n",
        "\n",
        "# (b):"
      ]
    },
    {
      "cell_type": "markdown",
      "source": [
        "### **Ejercicio #5: (1.0)**\n",
        "Considere el conjunto\n",
        "\n",
        "$$ \\mathbb{R}^{2} := \\{ \\vec{u} = (u_1,u_2):  u_{1},u_{2} \\in \\mathbb{R} \\}.$$\n",
        "\n",
        "Para  $\\vec{u} = (u_1,u_2)$, $\\vec{v} = (v_1,v_2)$ en  $\\mathbb{R}^{2}$ y $\\alpha \\in \\mathbb{R}$ se definen  las operaciones:\n",
        "\n",
        "$$\\vec{u} \\oplus \\vec{v} := (u_1 + v_1 + 2,u_2 + v_2 + 2),$$\n",
        "\n",
        "$$ \\alpha \\odot \\vec{u} := (\\alpha + \\alpha u_1 -1,\\alpha + \\alpha u_2 -1).   $$\n",
        "\n",
        "a). **(0.5)** Halle $  6 \\odot (8,2) \\oplus 3 \\odot (-1,18). $\n",
        "\n",
        "b). **(0.5)** Muestre que el vector $\\vec{0} = (-2,-2)$ es el elemento neutro aditivo verificando la igualdad $\\vec{0} \\oplus (4,6) = (4,6).$\n"
      ],
      "metadata": {
        "id": "MmaCYGL7Faaa"
      }
    },
    {
      "cell_type": "code",
      "source": [
        "#########---------- Ejecutar esta parte antes de dar respuesta a las preguntas-----------#########\n",
        "\n",
        "# NOTA: Las operaciones suma y producto aqui definidas pueden ser calculadas  mediante las siguientes funciones:\n",
        "\n",
        "SUMA = lambda u,v:  np.array([[u[0,0] + v[0,0] + 2,u[0,1] + v[0,1] + 2]])\n",
        "\n",
        "# La función SUMA recibe como entradas los vectores u,v y devuelve como resultado la suma de dichos vectores.\n",
        "\n",
        "PRODUCTO = lambda alpha,u:  np.array([[alpha + alpha*u[0,0] - 1,alpha + alpha*u[0,1] - 1]])\n",
        "\n",
        "# La función PRODUCTO recibe como entradas el escalar alpha y el vector u, y devuelve como resultado el producto escalar de alpha por u.\n",
        "\n",
        "# Ejemplo: Hallemos la suma de u = (2,7) con v = (0,4).\n",
        "\n",
        "u = np.array([[2, 7]])\n",
        "\n",
        "v = np.array([[0, 4]])\n",
        "\n",
        "Sol = SUMA(u,v)\n",
        "\n",
        "print('Sol =', Sol)\n"
      ],
      "metadata": {
        "colab": {
          "base_uri": "https://localhost:8080/"
        },
        "id": "Trw4fPumIOQh",
        "outputId": "1dcc2612-475a-41fd-ecbb-c89a010976ca"
      },
      "execution_count": null,
      "outputs": [
        {
          "output_type": "stream",
          "name": "stdout",
          "text": [
            "Sol = [[ 4 13]]\n"
          ]
        }
      ]
    },
    {
      "cell_type": "code",
      "source": [
        "# Solución Ejercicio 5. (No olvide imprimir las respuestas de sus cálculos)\n",
        "\n",
        "# Debe usar en sus respuestas las funciones antes definida\n",
        "\n",
        "# (a):"
      ],
      "metadata": {
        "id": "a-XExCEhRAky"
      },
      "execution_count": null,
      "outputs": []
    },
    {
      "cell_type": "code",
      "source": [
        "# Solución Ejercicio 5. (No olvide imprimir las respuestas de sus cálculos)\n",
        "\n",
        "# Debe usar en sus respuestas las funciones antes definida\n",
        "\n",
        "# (b):"
      ],
      "metadata": {
        "id": "AvarN0C1U3mA"
      },
      "execution_count": null,
      "outputs": []
    },
    {
      "cell_type": "markdown",
      "source": [
        "### **Ejercicio #6: (1.0)**\n",
        "Considere el espacio vectorial $M_{2 \\times 2}(\\mathbb{R})$ dotado del producto escalar definido en el **Ejercicio # 4**.  Use el proceso de **Gram-Schmidt** para construir una base ortonormal para el subespacio de $M_{2 \\times 2}(\\mathbb{R})$  generado por la base\n",
        "\n",
        "\\begin{equation*}\n",
        "  A_1 =\n",
        "  \\begin{pmatrix}\n",
        "  -1  & 3\\\\\n",
        "0  &  1\n",
        "  \\end{pmatrix}, \\\n",
        "  A_2 =\n",
        "  \\begin{pmatrix}\n",
        "   1 &  2\\\\\n",
        "-1 & 0\n",
        "  \\end{pmatrix},\n",
        "  \\\n",
        "  A_3 =\n",
        "  \\begin{pmatrix}\n",
        "   -2 &  0\\\\\n",
        "1 & 1\n",
        "\\end{pmatrix},\n",
        "  \\end{equation*}"
      ],
      "metadata": {
        "id": "KSDDBkP54l4X"
      }
    },
    {
      "cell_type": "code",
      "source": [
        "# Solución Ejercicio 6. (No olvide imprimir las respuestas de sus cálculos)\n",
        "\n"
      ],
      "metadata": {
        "id": "Yf5YagH34_Vd"
      },
      "execution_count": null,
      "outputs": []
    }
  ],
  "metadata": {
    "colab": {
      "provenance": [],
      "include_colab_link": true
    },
    "kernelspec": {
      "display_name": "Python 3",
      "name": "python3"
    },
    "language_info": {
      "name": "python"
    }
  },
  "nbformat": 4,
  "nbformat_minor": 0
}